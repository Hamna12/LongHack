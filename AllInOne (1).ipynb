{
 "cells": [
  {
   "cell_type": "code",
   "execution_count": 3,
   "metadata": {},
   "outputs": [
    {
     "name": "stdout",
     "output_type": "stream",
     "text": [
      "Привет, you should have samtools and freebayes be installed, so if you havent pls install\n",
      "Do you have a samtools and freebayes installed on you PC?\n",
      "Yes/No\n",
      "Yes\n"
     ]
    },
    {
     "ename": "SystemExit",
     "evalue": "Please install these applications",
     "output_type": "error",
     "traceback": [
      "An exception has occurred, use %tb to see the full traceback.\n",
      "\u001b[0;31mSystemExit\u001b[0m\u001b[0;31m:\u001b[0m Please install these applications\n"
     ]
    }
   ],
   "source": [
    "import sys\n",
    "import os\n",
    "print('Привет, you should have samtools and freebayes be installed, so if you havent pls install')\n",
    "\n",
    "print('Create a directory')\n",
    "new_folder = input()\n",
    "os.system(f'mkdir {new_folder}')\n",
    "\n",
    "print('Enter reference genome directory')\n",
    "refgen = input()\n",
    "\n",
    "print('Enter BAM file directory:')\n",
    "BAMdir = input()\n",
    "print('Enter name of output without a postfix')\n",
    "OUTdir = input()\n",
    "\n",
    "os.system(f'samtools view -b -F 0xc {BAMdir} -o {new_folder}/{OUTdir}.filtered.bam')\n",
    "print(f'BAM was cleaned in {new_folder}/{OUTdir}.correct.bam ')\n",
    "\n",
    "os.system (f'samtools sort -@ 8 -n {new_folder}/{OUTdir}.filtered.bam -o {new_folder}/{OUTdir}.sorted.n.bam')\n",
    "print(f'BAM was sorted in {OUTdir}.sorted.n.bam') \n",
    "\n",
    "os.system (f'samtools fixmate -m {new_folder}/{OUTdir}.sorted.n.bam -o {new_folder}/{OUTdir}.fixmate.bam')\n",
    "print(f'BAM was fixmated in {OUTdir}.fixmate.bam') \n",
    "\n",
    "os.system (f'samtools sort -@ 8 -n {new_folder}/{OUTdir}.fixmate.bam -o {new_folder}/{OUTdir}.sorted.p.bam')\n",
    "print(f'BAM was sorted in {OUTdir}.sorted.p.bam')\n",
    "\n",
    "os.system (f'samtools markdup -r -@ 8 {new_folder}/{OUTdir}.sorted.p.bam {new_folder}/{OUTdir}.dedup.bam')\n",
    "print(f'BAM was deduplicated in {OUTdir}.dedup.bam')\n",
    "\n",
    "os.system (f'samtools index {new_folder}/{OUTdir}.dedup.bam')\n",
    "print(f'BAM indexed')\n",
    "\n",
    "os.system (f'freebayes -f {refgen} -b {new_folder}/{OUTdir}.dedup.bam --vcf {new_folder}/{OUTdir}.vcf')\n",
    "print(f'BAM was deduplicated in {OUTdir}.dedup.bam')\n",
    "\n",
    "#MaKeBai = (f'samtools index -b -@ 10 {BAMdir} {new_folder}/{OUTdir}.bai')\n",
    "#os.system (MaKeBai)\n",
    "#print(f'BAI file was created as {OUTdir}.bai')\n",
    "\n",
    "#os.system(f'picard MarkDuplicates -M metrix.file.txt -I {new_folder}/{OUTdir}.correct.bam -O {new_folder}/{OUTdir}.markdup.bam') \n",
    "#print('BAM file duplicates was marked') \n",
    "\n",
    "#os.system(f'samtools flagstat -@ 10 {new_folder}/{OUTdir}.markdup.bam > {new_folder}/{OUTdir}.markdup.txt')\n",
    "#print('Stat for BAM was created') \n",
    "\n",
    "#os.system(\n",
    "    #f'bcftools mpileup --threads 10 -f {refgen} {new_folder}/{OUTdir}.markdup.bam | bcftools call -mv -o {new_folder}/{OUTdir}.vcf')\n",
    "#print('VCF was created')\n",
    "\n",
    "#os.system(\n",
    "    #f'bcftools stats {new_folder}/{OUTdir}.vcf > {new_folder}/{OUTdir}.stats.txt' \n",
    "    #)\n",
    "#print('stats for VCF was created')\n",
    "\n",
    "#os.system(f'bcftools filter -i \\'QUAL>30 && DP>50\\' {new_folder}/{OUTdir}.vcf -o {new_folder}/{OUTdir}.filtered.vcf')\n",
    "#print('VCF file was filtered') \n",
    "\n",
    "#os.system(f'bcftools stats {new_folder}/{OUTdir}.filtered.vcf > {new_folder}/{OUTdir}.filtered.stats.txt' )\n",
    "#print('VCF.filtered stats was created')\n",
    "\n",
    "#os.system(f'bedtools genomecov -bg -ibam {new_folder}/{OUTdir}.markdup.bam > {new_folder}/{OUTdir}.gencov.bed ')\n",
    "#print('BED file was created') \n",
    "\n",
    "#os.system(f'awk \\'{{if ($4 > 50) {{print $0}}}}\\' {new_folder}/{OUTdir}.gencov.bed | sort -k4,4nr >{new_folder}/{OUTdir}.gencov_geq50.txt')\n",
    "#print('BED file was filtered')\n",
    "\n",
    "#os.system(f'bedtools intersect -a {new_folder}/{OUTdir}.filtered.vcf -b {new_folder}/{OUTdir}.gencov.bed > {new_folder}/{OUTdir}.intersect.txt')\n",
    "#print('TXT file of intersections was created')\n",
    "\n",
    "\n",
    "\n"
   ]
  },
  {
   "cell_type": "code",
   "execution_count": null,
   "metadata": {},
   "outputs": [],
   "source": []
  }
 ],
 "metadata": {
  "kernelspec": {
   "display_name": "Python 3 (ipykernel)",
   "language": "python",
   "name": "python3"
  },
  "language_info": {
   "codemirror_mode": {
    "name": "ipython",
    "version": 3
   },
   "file_extension": ".py",
   "mimetype": "text/x-python",
   "name": "python",
   "nbconvert_exporter": "python",
   "pygments_lexer": "ipython3",
   "version": "3.9.13"
  }
 },
 "nbformat": 4,
 "nbformat_minor": 4
}
